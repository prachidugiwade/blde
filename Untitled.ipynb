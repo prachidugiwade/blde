{
 "cells": [
  {
   "cell_type": "code",
   "execution_count": 1,
   "id": "a61a6430",
   "metadata": {},
   "outputs": [
    {
     "name": "stdout",
     "output_type": "stream",
     "text": [
      "Enter amount:5\n",
      "Enter time:6\n",
      "Enter rate:5\n",
      "Simple Interest is: 1.500000\n",
      "Compound Interest is: 1.700478\n"
     ]
    }
   ],
   "source": [
    "P=float(input(\"Enter amount:\"))\n",
    "T=float(input(\"Enter time:\"))\n",
    "R=float(input(\"Enter rate:\"))\n",
    "SI=P*T*R/100\n",
    "CI=P*((1+R/100)**T-1)\n",
    "print(\"Simple Interest is: %2f\" %(SI))\n",
    "print(\"Compound Interest is: %2f\" %(CI))"
   ]
  },
  {
   "cell_type": "code",
   "execution_count": null,
   "id": "9ac464c9",
   "metadata": {},
   "outputs": [],
   "source": []
  }
 ],
 "metadata": {
  "kernelspec": {
   "display_name": "Python 3 (ipykernel)",
   "language": "python",
   "name": "python3"
  },
  "language_info": {
   "codemirror_mode": {
    "name": "ipython",
    "version": 3
   },
   "file_extension": ".py",
   "mimetype": "text/x-python",
   "name": "python",
   "nbconvert_exporter": "python",
   "pygments_lexer": "ipython3",
   "version": "3.9.12"
  }
 },
 "nbformat": 4,
 "nbformat_minor": 5
}
